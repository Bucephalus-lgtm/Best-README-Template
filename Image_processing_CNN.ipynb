{
  "nbformat": 4,
  "nbformat_minor": 0,
  "metadata": {
    "colab": {
      "name": "Image_processing_CNN.ipynb",
      "provenance": [],
      "collapsed_sections": [],
      "toc_visible": true,
      "authorship_tag": "ABX9TyNBYPhaaeH9cESVtLFoDceX",
      "include_colab_link": true
    },
    "kernelspec": {
      "name": "python3",
      "display_name": "Python 3"
    },
    "language_info": {
      "name": "python"
    }
  },
  "cells": [
    {
      "cell_type": "markdown",
      "metadata": {
        "id": "view-in-github",
        "colab_type": "text"
      },
      "source": [
        "<a href=\"https://colab.research.google.com/github/Bucephalus-lgtm/Best-README-Template/blob/master/Image_processing_CNN.ipynb\" target=\"_parent\"><img src=\"https://colab.research.google.com/assets/colab-badge.svg\" alt=\"Open In Colab\"/></a>"
      ]
    },
    {
      "cell_type": "code",
      "metadata": {
        "id": "GFUVjc5GCqaK"
      },
      "source": [
        "from tensorflow.keras.datasets import mnist"
      ],
      "execution_count": 2,
      "outputs": []
    },
    {
      "cell_type": "code",
      "metadata": {
        "id": "bFclYC6aIOWH"
      },
      "source": [
        "import tensorflow as tf"
      ],
      "execution_count": 3,
      "outputs": []
    },
    {
      "cell_type": "code",
      "metadata": {
        "id": "WZfWqp4PHxRz"
      },
      "source": [
        "(X_train, y_train), (X_test, y_test) = mnist.load_data()"
      ],
      "execution_count": 4,
      "outputs": []
    },
    {
      "cell_type": "code",
      "metadata": {
        "id": "RhqqrN4ZShwt"
      },
      "source": [
        "import numpy as np\n",
        "import matplotlib.pyplot as plt"
      ],
      "execution_count": 53,
      "outputs": []
    },
    {
      "cell_type": "code",
      "metadata": {
        "colab": {
          "base_uri": "https://localhost:8080/",
          "height": 282
        },
        "id": "wQOZsJjMSjI9",
        "outputId": "e1d579e7-262b-4170-dc34-2b536c444848"
      },
      "source": [
        "img = X_train[0].reshape(28,28)\n",
        "\n",
        "plt.imshow(img)"
      ],
      "execution_count": 69,
      "outputs": [
        {
          "output_type": "execute_result",
          "data": {
            "text/plain": [
              "<matplotlib.image.AxesImage at 0x7f59dc84c850>"
            ]
          },
          "metadata": {
            "tags": []
          },
          "execution_count": 69
        },
        {
          "output_type": "display_data",
          "data": {
            "image/png": "[encoded data removed]",
            "text/plain": [
              "<Figure size 432x288 with 1 Axes>"
            ]
          },
          "metadata": {
            "tags": [],
            "needs_background": "light"
          }
        }
      ]
    },
    {
      "cell_type": "code",
      "metadata": {
        "colab": {
          "base_uri": "https://localhost:8080/"
        },
        "id": "ccaYf6ZdH7oe",
        "outputId": "875fa9cc-5ab2-43bb-8495-7f1fc8bbcd09"
      },
      "source": [
        "X_train.shape, y_train.shape"
      ],
      "execution_count": 5,
      "outputs": [
        {
          "output_type": "execute_result",
          "data": {
            "text/plain": [
              "((60000, 28, 28), (60000,))"
            ]
          },
          "metadata": {
            "tags": []
          },
          "execution_count": 5
        }
      ]
    },
    {
      "cell_type": "code",
      "metadata": {
        "id": "1Xxi3OZgIDrw"
      },
      "source": [
        "from tensorflow.keras.models import Sequential\n",
        "from tensorflow.keras.layers import Dense, Flatten, Dropout, Conv2D, MaxPool2D\n",
        "from tensorflow.keras.utils import to_categorical"
      ],
      "execution_count": 6,
      "outputs": []
    },
    {
      "cell_type": "code",
      "metadata": {
        "id": "xgz8O4HYI6un"
      },
      "source": [
        "X_train = X_train.reshape((60000, 784))\n",
        "X_test = X_test.reshape((10000, 784))\n",
        "\n",
        "X_train = X_train.astype('float32')\n",
        "X_test = X_test.astype('float32')"
      ],
      "execution_count": 7,
      "outputs": []
    },
    {
      "cell_type": "code",
      "metadata": {
        "id": "PgHBl1szINil"
      },
      "source": [
        "X_train /= 255\n",
        "X_test /= 255"
      ],
      "execution_count": 8,
      "outputs": []
    },
    {
      "cell_type": "code",
      "metadata": {
        "id": "O5IYurdAJkJp"
      },
      "source": [
        "n_classes = 10"
      ],
      "execution_count": 9,
      "outputs": []
    },
    {
      "cell_type": "code",
      "metadata": {
        "colab": {
          "base_uri": "https://localhost:8080/"
        },
        "id": "o14v35YJJm6r",
        "outputId": "8ada346f-29db-47ea-d302-d0bd9c4de3c6"
      },
      "source": [
        "print(\"Shape before One Hot Encoding...\", y_train.shape)"
      ],
      "execution_count": 10,
      "outputs": [
        {
          "output_type": "stream",
          "text": [
            "Shape before One Hot Encoding... (60000,)\n"
          ],
          "name": "stdout"
        }
      ]
    },
    {
      "cell_type": "code",
      "metadata": {
        "colab": {
          "base_uri": "https://localhost:8080/"
        },
        "id": "PQhLvkVQJu_z",
        "outputId": "7e85fdb0-5858-4f90-c983-2e3e4b1df66c"
      },
      "source": [
        "y_train = to_categorical(y_train, n_classes)\n",
        "y_test = to_categorical(y_test, n_classes)\n",
        "y_train.shape, y_test.shape"
      ],
      "execution_count": 11,
      "outputs": [
        {
          "output_type": "execute_result",
          "data": {
            "text/plain": [
              "((60000, 10), (10000, 10))"
            ]
          },
          "metadata": {
            "tags": []
          },
          "execution_count": 11
        }
      ]
    },
    {
      "cell_type": "code",
      "metadata": {
        "colab": {
          "base_uri": "https://localhost:8080/"
        },
        "id": "hpQ5FSB9KAId",
        "outputId": "b3baf91b-748d-4b2e-bfe1-950205f15234"
      },
      "source": [
        "print(\"Shape after One Hot Encoding...\", y_train.shape)"
      ],
      "execution_count": 12,
      "outputs": [
        {
          "output_type": "stream",
          "text": [
            "Shape after One Hot Encoding... (60000, 10)\n"
          ],
          "name": "stdout"
        }
      ]
    },
    {
      "cell_type": "code",
      "metadata": {
        "id": "lNP-f_k7Kf5A"
      },
      "source": [
        "model = Sequential()"
      ],
      "execution_count": 13,
      "outputs": []
    },
    {
      "cell_type": "code",
      "metadata": {
        "id": "6Undpx-BKkRe"
      },
      "source": [
        "model.add(Dense(10, input_shape=(784,), activation='relu'))\n",
        "model.add(Dense(10, activation='softmax'))"
      ],
      "execution_count": 15,
      "outputs": []
    },
    {
      "cell_type": "code",
      "metadata": {
        "colab": {
          "base_uri": "https://localhost:8080/"
        },
        "id": "fQ9VNYHEK8lH",
        "outputId": "31972a8c-0979-4205-e30e-96f564ab536f"
      },
      "source": [
        "model.summary()"
      ],
      "execution_count": 16,
      "outputs": [
        {
          "output_type": "stream",
          "text": [
            "Model: \"sequential\"\n",
            "_________________________________________________________________\n",
            "Layer (type)                 Output Shape              Param #   \n",
            "=================================================================\n",
            "dense (Dense)                (None, 10)                7850      \n",
            "_________________________________________________________________\n",
            "dense_1 (Dense)              (None, 10)                110       \n",
            "_________________________________________________________________\n",
            "dense_2 (Dense)              (None, 10)                110       \n",
            "=================================================================\n",
            "Total params: 8,070\n",
            "Trainable params: 8,070\n",
            "Non-trainable params: 0\n",
            "_________________________________________________________________\n"
          ],
          "name": "stdout"
        }
      ]
    },
    {
      "cell_type": "code",
      "metadata": {
        "id": "O55uZrVqK_2E"
      },
      "source": [
        "model.compile(optimizer='adam', loss='categorical_crossentropy', metrics=['accuracy'])"
      ],
      "execution_count": 17,
      "outputs": []
    },
    {
      "cell_type": "code",
      "metadata": {
        "colab": {
          "base_uri": "https://localhost:8080/"
        },
        "id": "Nvb-p9mzLZD5",
        "outputId": "672f7add-e90e-48ae-e628-efb0e98960c0"
      },
      "source": [
        "model.fit(X_train, y_train, batch_size=128, epochs=10, validation_data=(X_test, y_test))"
      ],
      "execution_count": 18,
      "outputs": [
        {
          "output_type": "stream",
          "text": [
            "Epoch 1/10\n",
            "469/469 [==============================] - 2s 3ms/step - loss: 0.9313 - accuracy: 0.7005 - val_loss: 0.3861 - val_accuracy: 0.8901\n",
            "Epoch 2/10\n",
            "469/469 [==============================] - 1s 3ms/step - loss: 0.3524 - accuracy: 0.9010 - val_loss: 0.3080 - val_accuracy: 0.9116\n",
            "Epoch 3/10\n",
            "469/469 [==============================] - 1s 3ms/step - loss: 0.3051 - accuracy: 0.9143 - val_loss: 0.2868 - val_accuracy: 0.9173\n",
            "Epoch 4/10\n",
            "469/469 [==============================] - 1s 3ms/step - loss: 0.2820 - accuracy: 0.9200 - val_loss: 0.2705 - val_accuracy: 0.9219\n",
            "Epoch 5/10\n",
            "469/469 [==============================] - 1s 3ms/step - loss: 0.2665 - accuracy: 0.9242 - val_loss: 0.2554 - val_accuracy: 0.9251\n",
            "Epoch 6/10\n",
            "469/469 [==============================] - 1s 3ms/step - loss: 0.2545 - accuracy: 0.9274 - val_loss: 0.2476 - val_accuracy: 0.9281\n",
            "Epoch 7/10\n",
            "469/469 [==============================] - 1s 3ms/step - loss: 0.2457 - accuracy: 0.9301 - val_loss: 0.2382 - val_accuracy: 0.9313\n",
            "Epoch 8/10\n",
            "469/469 [==============================] - 1s 3ms/step - loss: 0.2376 - accuracy: 0.9319 - val_loss: 0.2371 - val_accuracy: 0.9319\n",
            "Epoch 9/10\n",
            "469/469 [==============================] - 1s 3ms/step - loss: 0.2301 - accuracy: 0.9342 - val_loss: 0.2360 - val_accuracy: 0.9310\n",
            "Epoch 10/10\n",
            "469/469 [==============================] - 1s 3ms/step - loss: 0.2249 - accuracy: 0.9357 - val_loss: 0.2300 - val_accuracy: 0.9317\n"
          ],
          "name": "stdout"
        },
        {
          "output_type": "execute_result",
          "data": {
            "text/plain": [
              "<tensorflow.python.keras.callbacks.History at 0x7f59e9c25650>"
            ]
          },
          "metadata": {
            "tags": []
          },
          "execution_count": 18
        }
      ]
    },
    {
      "cell_type": "markdown",
      "metadata": {
        "id": "-_ouwkJ-L3YS"
      },
      "source": [
        "<h2>Now we will build a CNN to optimize the accuracy of our model.</h2>"
      ]
    },
    {
      "cell_type": "code",
      "metadata": {
        "id": "Ahx5Jz1tMZzP"
      },
      "source": [
        "from sklearn.metrics import accuracy_score"
      ],
      "execution_count": 19,
      "outputs": []
    },
    {
      "cell_type": "code",
      "metadata": {
        "colab": {
          "base_uri": "https://localhost:8080/"
        },
        "id": "DGwB7OrOMyae",
        "outputId": "6808576c-4acb-4d70-f9ad-3b76e4d6a477"
      },
      "source": [
        "X_train.shape"
      ],
      "execution_count": 21,
      "outputs": [
        {
          "output_type": "execute_result",
          "data": {
            "text/plain": [
              "(60000, 784)"
            ]
          },
          "metadata": {
            "tags": []
          },
          "execution_count": 21
        }
      ]
    },
    {
      "cell_type": "code",
      "metadata": {
        "colab": {
          "base_uri": "https://localhost:8080/"
        },
        "id": "JJh7lm_TM8MQ",
        "outputId": "320e9f6c-1629-4f7e-dda7-68b6e3b11b5a"
      },
      "source": [
        "X_train = X_train.reshape(X_train.shape[0], 28, 28, 1)\n",
        "X_test = X_test.reshape(X_test.shape[0], 28, 28, 1)\n",
        "X_train.shape, X_test.shape"
      ],
      "execution_count": 24,
      "outputs": [
        {
          "output_type": "execute_result",
          "data": {
            "text/plain": [
              "((60000, 28, 28, 1), (10000, 28, 28, 1))"
            ]
          },
          "metadata": {
            "tags": []
          },
          "execution_count": 24
        }
      ]
    },
    {
      "cell_type": "code",
      "metadata": {
        "id": "kidaIjOlN6At"
      },
      "source": [
        "cnn_model = Sequential()\n",
        "\n",
        "cnn_model.add(Conv2D(25, kernel_size=(3, 3), strides=(1, 1), padding='valid', activation='relu', input_shape=(28, 28, 1)))\n",
        "cnn_model.add(MaxPool2D(pool_size=(1, 1)))\n",
        "\n",
        "cnn_model.add(Flatten())\n",
        "\n",
        "cnn_model.add(Dense(100, activation='relu'))\n",
        "cnn_model.add(Dense(10, activation='softmax'))"
      ],
      "execution_count": 34,
      "outputs": []
    },
    {
      "cell_type": "code",
      "metadata": {
        "colab": {
          "base_uri": "https://localhost:8080/"
        },
        "id": "mE_JGxn3O9_l",
        "outputId": "9b67db8f-09b4-447b-b638-f1170d0a5366"
      },
      "source": [
        "cnn_model.compile(loss='categorical_crossentropy', optimizer='adam', metrics=['accuracy'])\n",
        "cnn_model.fit(X_train, y_train, batch_size=128, epochs=10, validation_data=(X_test, y_test))"
      ],
      "execution_count": 36,
      "outputs": [
        {
          "output_type": "stream",
          "text": [
            "Epoch 1/10\n",
            "469/469 [==============================] - 44s 93ms/step - loss: 0.2020 - accuracy: 0.9426 - val_loss: 0.0759 - val_accuracy: 0.9776\n",
            "Epoch 2/10\n",
            "469/469 [==============================] - 43s 92ms/step - loss: 0.0625 - accuracy: 0.9816 - val_loss: 0.0524 - val_accuracy: 0.9829\n",
            "Epoch 3/10\n",
            "469/469 [==============================] - 43s 93ms/step - loss: 0.0368 - accuracy: 0.9889 - val_loss: 0.0523 - val_accuracy: 0.9831\n",
            "Epoch 4/10\n",
            "469/469 [==============================] - 43s 93ms/step - loss: 0.0235 - accuracy: 0.9928 - val_loss: 0.0437 - val_accuracy: 0.9848\n",
            "Epoch 5/10\n",
            "469/469 [==============================] - 43s 93ms/step - loss: 0.0156 - accuracy: 0.9955 - val_loss: 0.0468 - val_accuracy: 0.9850\n",
            "Epoch 6/10\n",
            "469/469 [==============================] - 44s 93ms/step - loss: 0.0110 - accuracy: 0.9968 - val_loss: 0.0449 - val_accuracy: 0.9851\n",
            "Epoch 7/10\n",
            "469/469 [==============================] - 44s 93ms/step - loss: 0.0075 - accuracy: 0.9980 - val_loss: 0.0524 - val_accuracy: 0.9840\n",
            "Epoch 8/10\n",
            "469/469 [==============================] - 44s 93ms/step - loss: 0.0053 - accuracy: 0.9985 - val_loss: 0.0588 - val_accuracy: 0.9839\n",
            "Epoch 9/10\n",
            "469/469 [==============================] - 43s 93ms/step - loss: 0.0041 - accuracy: 0.9989 - val_loss: 0.0758 - val_accuracy: 0.9820\n",
            "Epoch 10/10\n",
            "469/469 [==============================] - 43s 93ms/step - loss: 0.0061 - accuracy: 0.9980 - val_loss: 0.0648 - val_accuracy: 0.9834\n"
          ],
          "name": "stdout"
        },
        {
          "output_type": "execute_result",
          "data": {
            "text/plain": [
              "<tensorflow.python.keras.callbacks.History at 0x7f59dea7c850>"
            ]
          },
          "metadata": {
            "tags": []
          },
          "execution_count": 36
        }
      ]
    },
    {
      "cell_type": "code",
      "metadata": {
        "colab": {
          "base_uri": "https://localhost:8080/"
        },
        "id": "yNoj1ba6R83G",
        "outputId": "066c86c9-7be1-4562-8b07-decce68ef2c2"
      },
      "source": [
        "np.argmax(cnn_model.predict(X_test)[89])"
      ],
      "execution_count": 88,
      "outputs": [
        {
          "output_type": "execute_result",
          "data": {
            "text/plain": [
              "1"
            ]
          },
          "metadata": {
            "tags": []
          },
          "execution_count": 88
        }
      ]
    },
    {
      "cell_type": "code",
      "metadata": {
        "colab": {
          "base_uri": "https://localhost:8080/"
        },
        "id": "7hl7FsMvURbB",
        "outputId": "d03493a9-9b69-4a1c-88ef-9decbfb65072"
      },
      "source": [
        "np.argmax(y_test[89])"
      ],
      "execution_count": 89,
      "outputs": [
        {
          "output_type": "execute_result",
          "data": {
            "text/plain": [
              "1"
            ]
          },
          "metadata": {
            "tags": []
          },
          "execution_count": 89
        }
      ]
    },
    {
      "cell_type": "code",
      "metadata": {
        "colab": {
          "base_uri": "https://localhost:8080/",
          "height": 282
        },
        "id": "pwR4YRiWUctC",
        "outputId": "ef9ed2ef-f129-4703-f5b6-dedbd6cb51f6"
      },
      "source": [
        "image = X_test[89].reshape(28, 28)\n",
        "\n",
        "plt.imshow(image)"
      ],
      "execution_count": 87,
      "outputs": [
        {
          "output_type": "execute_result",
          "data": {
            "text/plain": [
              "<matplotlib.image.AxesImage at 0x7f59dc6d8110>"
            ]
          },
          "metadata": {
            "tags": []
          },
          "execution_count": 87
        },
        {
          "output_type": "display_data",
          "data": {
            "image/png": "[encoded data removed]",
            "text/plain": [
              "<Figure size 432x288 with 1 Axes>"
            ]
          },
          "metadata": {
            "tags": [],
            "needs_background": "light"
          }
        }
      ]
    }
  ]
}